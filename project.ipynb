{
 "cells": [
  {
   "cell_type": "code",
   "execution_count": 1,
   "metadata": {},
   "outputs": [],
   "source": [
    "import numpy as np\n",
    "import pandas as pd\n",
    "from itertools import combinations"
   ]
  },
  {
   "cell_type": "code",
   "execution_count": 2,
   "metadata": {},
   "outputs": [],
   "source": [
    "data = pd.read_csv('train_data.csv') \n",
    "symbols = 'ABCDEFGHIJ'\n",
    "base_features = ['open', 'high', 'low', 'close', 'average']"
   ]
  },
  {
   "cell_type": "markdown",
   "metadata": {},
   "source": [
    "## Data Cleaning"
   ]
  },
  {
   "cell_type": "code",
   "execution_count": 3,
   "metadata": {
    "scrolled": true
   },
   "outputs": [
    {
     "name": "stdout",
     "output_type": "stream",
     "text": [
      "Inconsistent: 4665, i: 67, s: A!\n",
      "Inconsistent: 4668, i: 11, s: B!\n",
      "Inconsistent: 4679, i: 22, s: B!\n",
      "Inconsistent: 4679, i: 45, s: B!\n",
      "Inconsistent: 4667, i: 47, s: B!\n",
      "Inconsistent: 4670, i: 52, s: B!\n",
      "Inconsistent: 4320, i: 0, s: D!\n",
      "Inconsistent: 3960, i: 31, s: D!\n",
      "Inconsistent: 4669, i: 5, s: F!\n",
      "Inconsistent: 3960, i: 23, s: F!\n",
      "Inconsistent: 4678, i: 55, s: F!\n",
      "Inconsistent: 4669, i: 66, s: F!\n",
      "Inconsistent: 4320, i: 0, s: H!\n",
      "Inconsistent: 3960, i: 23, s: I!\n",
      "Inconsistent: 3960, i: 42, s: I!\n",
      "Inconsistent: 3960, i: 23, s: J!\n"
     ]
    }
   ],
   "source": [
    "# see if rows are consistent\n",
    "data_sub = data[data['time'] >= '06:30:00']\n",
    "for s in symbols:\n",
    "    d = data_sub[data_sub['symbol'] == s]\n",
    "    for i in range(87):\n",
    "        row_ct = d[d.day == i].shape[0]\n",
    "        if row_ct != 4680:\n",
    "            print(f\"Inconsistent: {row_ct}, i: {i}, s: {s}!\")"
   ]
  },
  {
   "cell_type": "code",
   "execution_count": 4,
   "metadata": {},
   "outputs": [],
   "source": [
    "# make sure dimensions match\n",
    "full_time = list(data[(data['symbol'] == 'A') & (data['day'] == 2)]['time'])"
   ]
  },
  {
   "cell_type": "code",
   "execution_count": 5,
   "metadata": {},
   "outputs": [],
   "source": [
    "full_days = [i for i in range(87) for _ in range(len(full_time))]"
   ]
  },
  {
   "cell_type": "code",
   "execution_count": 6,
   "metadata": {
    "scrolled": true
   },
   "outputs": [],
   "source": [
    "full_data = pd.DataFrame({\"time\": full_time*87, \"day\": full_days})"
   ]
  },
  {
   "cell_type": "markdown",
   "metadata": {},
   "source": [
    "### Impute missing data based on immediate next non-null value"
   ]
  },
  {
   "cell_type": "code",
   "execution_count": 7,
   "metadata": {},
   "outputs": [],
   "source": [
    "full_ds = []\n",
    "for s in symbols:\n",
    "    d = data[data['symbol'] == s]\n",
    "    d_full = full_data.merge(d, how = 'left', on = ['time', 'day'])\n",
    "    d_full.symbol = s\n",
    "    d_full.fillna(method='bfill', inplace=True)\n",
    "    full_ds.append(d_full)"
   ]
  },
  {
   "cell_type": "code",
   "execution_count": 8,
   "metadata": {
    "scrolled": true
   },
   "outputs": [
    {
     "data": {
      "text/plain": [
       "(4384800, 8)"
      ]
     },
     "execution_count": 8,
     "metadata": {},
     "output_type": "execute_result"
    }
   ],
   "source": [
    "data = pd.concat(full_ds)\n",
    "data.shape"
   ]
  },
  {
   "cell_type": "markdown",
   "metadata": {},
   "source": [
    "Now it is perfectly 87 days * 5040 timestamps * 10 symbols = 4384800 rows"
   ]
  },
  {
   "cell_type": "code",
   "execution_count": 9,
   "metadata": {},
   "outputs": [],
   "source": [
    "a = data[data['symbol'] == 'A'].copy()\n",
    "b = data[data['symbol'] == 'B'].copy()\n",
    "c = data[data['symbol'] == 'C'].copy()\n",
    "d = data[data['symbol'] == 'D'].copy()\n",
    "e = data[data['symbol'] == 'E'].copy()\n",
    "f = data[data['symbol'] == 'F'].copy()\n",
    "g = data[data['symbol'] == 'G'].copy()\n",
    "h = data[data['symbol'] == 'H'].copy()\n",
    "i = data[data['symbol'] == 'I'].copy()\n",
    "j = data[data['symbol'] == 'J'].copy()\n",
    "all_data = list([a, b, c, d, e, f, g, h, i, j])"
   ]
  },
  {
   "cell_type": "markdown",
   "metadata": {},
   "source": [
    "### Build features"
   ]
  },
  {
   "cell_type": "code",
   "execution_count": 10,
   "metadata": {
    "scrolled": false
   },
   "outputs": [
    {
     "data": {
      "text/plain": [
       "0              NaN\n",
       "1         0.000000\n",
       "2         0.000000\n",
       "3         0.000000\n",
       "4         0.000000\n",
       "            ...   \n",
       "438475   -0.000054\n",
       "438476    0.000000\n",
       "438477    0.000161\n",
       "438478    0.000107\n",
       "438479    0.000161\n",
       "Name: open, Length: 4384800, dtype: float64"
      ]
     },
     "execution_count": 10,
     "metadata": {},
     "output_type": "execute_result"
    }
   ],
   "source": [
    "# features \n",
    "def get_change(l, s):\n",
    "    return l / l.shift(s) - 1\n",
    "\n",
    "get_change(data.open, 1)"
   ]
  },
  {
   "cell_type": "code",
   "execution_count": 11,
   "metadata": {},
   "outputs": [
    {
     "data": {
      "text/plain": [
       "43.16239080389173"
      ]
     },
     "execution_count": 11,
     "metadata": {},
     "output_type": "execute_result"
    }
   ],
   "source": [
    "data.open.std()"
   ]
  },
  {
   "cell_type": "code",
   "execution_count": 12,
   "metadata": {},
   "outputs": [],
   "source": [
    "# percentage change over 5s, 1m, 15m, 1h, 1-9d\n",
    "for d in all_data:\n",
    "    for bf in base_features:\n",
    "        d[f'{bf}_5s'] = get_change(d[bf], 1)\n",
    "        d[f'{bf}_1m'] = get_change(d[bf], 12)\n",
    "        d[f'{bf}_15m'] = get_change(d[bf], 12*15)\n",
    "        d[f'{bf}_1h'] = get_change(d[bf], 12*15*4)\n",
    "        for n in range(1, 10):\n",
    "            d[f'{bf}_{n}d'] = get_change(d[bf], 12*15*4*7*n)\n"
   ]
  },
  {
   "cell_type": "code",
   "execution_count": 14,
   "metadata": {},
   "outputs": [
    {
     "data": {
      "text/html": [
       "<div>\n",
       "<style scoped>\n",
       "    .dataframe tbody tr th:only-of-type {\n",
       "        vertical-align: middle;\n",
       "    }\n",
       "\n",
       "    .dataframe tbody tr th {\n",
       "        vertical-align: top;\n",
       "    }\n",
       "\n",
       "    .dataframe thead th {\n",
       "        text-align: right;\n",
       "    }\n",
       "</style>\n",
       "<table border=\"1\" class=\"dataframe\">\n",
       "  <thead>\n",
       "    <tr style=\"text-align: right;\">\n",
       "      <th></th>\n",
       "      <th>time</th>\n",
       "      <th>day</th>\n",
       "      <th>symbol</th>\n",
       "      <th>open</th>\n",
       "      <th>high</th>\n",
       "      <th>low</th>\n",
       "      <th>close</th>\n",
       "      <th>average</th>\n",
       "      <th>open_5s</th>\n",
       "      <th>open_1m</th>\n",
       "      <th>...</th>\n",
       "      <th>average_1h</th>\n",
       "      <th>average_1d</th>\n",
       "      <th>average_2d</th>\n",
       "      <th>average_3d</th>\n",
       "      <th>average_4d</th>\n",
       "      <th>average_5d</th>\n",
       "      <th>average_6d</th>\n",
       "      <th>average_7d</th>\n",
       "      <th>average_8d</th>\n",
       "      <th>average_9d</th>\n",
       "    </tr>\n",
       "  </thead>\n",
       "  <tbody>\n",
       "    <tr>\n",
       "      <th>0</th>\n",
       "      <td>06:00:00</td>\n",
       "      <td>0</td>\n",
       "      <td>A</td>\n",
       "      <td>135.54</td>\n",
       "      <td>135.79</td>\n",
       "      <td>135.54</td>\n",
       "      <td>135.79</td>\n",
       "      <td>135.67</td>\n",
       "      <td>NaN</td>\n",
       "      <td>NaN</td>\n",
       "      <td>...</td>\n",
       "      <td>NaN</td>\n",
       "      <td>NaN</td>\n",
       "      <td>NaN</td>\n",
       "      <td>NaN</td>\n",
       "      <td>NaN</td>\n",
       "      <td>NaN</td>\n",
       "      <td>NaN</td>\n",
       "      <td>NaN</td>\n",
       "      <td>NaN</td>\n",
       "      <td>NaN</td>\n",
       "    </tr>\n",
       "    <tr>\n",
       "      <th>1</th>\n",
       "      <td>06:00:05</td>\n",
       "      <td>0</td>\n",
       "      <td>A</td>\n",
       "      <td>135.54</td>\n",
       "      <td>135.79</td>\n",
       "      <td>135.54</td>\n",
       "      <td>135.79</td>\n",
       "      <td>135.67</td>\n",
       "      <td>0.000000</td>\n",
       "      <td>NaN</td>\n",
       "      <td>...</td>\n",
       "      <td>NaN</td>\n",
       "      <td>NaN</td>\n",
       "      <td>NaN</td>\n",
       "      <td>NaN</td>\n",
       "      <td>NaN</td>\n",
       "      <td>NaN</td>\n",
       "      <td>NaN</td>\n",
       "      <td>NaN</td>\n",
       "      <td>NaN</td>\n",
       "      <td>NaN</td>\n",
       "    </tr>\n",
       "    <tr>\n",
       "      <th>2</th>\n",
       "      <td>06:00:10</td>\n",
       "      <td>0</td>\n",
       "      <td>A</td>\n",
       "      <td>135.54</td>\n",
       "      <td>135.79</td>\n",
       "      <td>135.54</td>\n",
       "      <td>135.79</td>\n",
       "      <td>135.67</td>\n",
       "      <td>0.000000</td>\n",
       "      <td>NaN</td>\n",
       "      <td>...</td>\n",
       "      <td>NaN</td>\n",
       "      <td>NaN</td>\n",
       "      <td>NaN</td>\n",
       "      <td>NaN</td>\n",
       "      <td>NaN</td>\n",
       "      <td>NaN</td>\n",
       "      <td>NaN</td>\n",
       "      <td>NaN</td>\n",
       "      <td>NaN</td>\n",
       "      <td>NaN</td>\n",
       "    </tr>\n",
       "    <tr>\n",
       "      <th>3</th>\n",
       "      <td>06:00:15</td>\n",
       "      <td>0</td>\n",
       "      <td>A</td>\n",
       "      <td>135.54</td>\n",
       "      <td>135.79</td>\n",
       "      <td>135.54</td>\n",
       "      <td>135.79</td>\n",
       "      <td>135.67</td>\n",
       "      <td>0.000000</td>\n",
       "      <td>NaN</td>\n",
       "      <td>...</td>\n",
       "      <td>NaN</td>\n",
       "      <td>NaN</td>\n",
       "      <td>NaN</td>\n",
       "      <td>NaN</td>\n",
       "      <td>NaN</td>\n",
       "      <td>NaN</td>\n",
       "      <td>NaN</td>\n",
       "      <td>NaN</td>\n",
       "      <td>NaN</td>\n",
       "      <td>NaN</td>\n",
       "    </tr>\n",
       "    <tr>\n",
       "      <th>4</th>\n",
       "      <td>06:00:20</td>\n",
       "      <td>0</td>\n",
       "      <td>A</td>\n",
       "      <td>135.54</td>\n",
       "      <td>135.79</td>\n",
       "      <td>135.54</td>\n",
       "      <td>135.79</td>\n",
       "      <td>135.67</td>\n",
       "      <td>0.000000</td>\n",
       "      <td>NaN</td>\n",
       "      <td>...</td>\n",
       "      <td>NaN</td>\n",
       "      <td>NaN</td>\n",
       "      <td>NaN</td>\n",
       "      <td>NaN</td>\n",
       "      <td>NaN</td>\n",
       "      <td>NaN</td>\n",
       "      <td>NaN</td>\n",
       "      <td>NaN</td>\n",
       "      <td>NaN</td>\n",
       "      <td>NaN</td>\n",
       "    </tr>\n",
       "    <tr>\n",
       "      <th>...</th>\n",
       "      <td>...</td>\n",
       "      <td>...</td>\n",
       "      <td>...</td>\n",
       "      <td>...</td>\n",
       "      <td>...</td>\n",
       "      <td>...</td>\n",
       "      <td>...</td>\n",
       "      <td>...</td>\n",
       "      <td>...</td>\n",
       "      <td>...</td>\n",
       "      <td>...</td>\n",
       "      <td>...</td>\n",
       "      <td>...</td>\n",
       "      <td>...</td>\n",
       "      <td>...</td>\n",
       "      <td>...</td>\n",
       "      <td>...</td>\n",
       "      <td>...</td>\n",
       "      <td>...</td>\n",
       "      <td>...</td>\n",
       "      <td>...</td>\n",
       "    </tr>\n",
       "    <tr>\n",
       "      <th>438475</th>\n",
       "      <td>12:59:35</td>\n",
       "      <td>86</td>\n",
       "      <td>A</td>\n",
       "      <td>146.30</td>\n",
       "      <td>146.32</td>\n",
       "      <td>146.28</td>\n",
       "      <td>146.28</td>\n",
       "      <td>146.29</td>\n",
       "      <td>0.000000</td>\n",
       "      <td>-0.000137</td>\n",
       "      <td>...</td>\n",
       "      <td>0.002673</td>\n",
       "      <td>0.004256</td>\n",
       "      <td>0.006813</td>\n",
       "      <td>-0.013287</td>\n",
       "      <td>-0.015942</td>\n",
       "      <td>-0.013421</td>\n",
       "      <td>-0.031833</td>\n",
       "      <td>-0.026097</td>\n",
       "      <td>-0.021668</td>\n",
       "      <td>-0.005844</td>\n",
       "    </tr>\n",
       "    <tr>\n",
       "      <th>438476</th>\n",
       "      <td>12:59:40</td>\n",
       "      <td>86</td>\n",
       "      <td>A</td>\n",
       "      <td>146.28</td>\n",
       "      <td>146.30</td>\n",
       "      <td>146.27</td>\n",
       "      <td>146.29</td>\n",
       "      <td>146.29</td>\n",
       "      <td>-0.000137</td>\n",
       "      <td>-0.000137</td>\n",
       "      <td>...</td>\n",
       "      <td>0.002673</td>\n",
       "      <td>0.004187</td>\n",
       "      <td>0.007438</td>\n",
       "      <td>-0.013287</td>\n",
       "      <td>-0.016075</td>\n",
       "      <td>-0.013421</td>\n",
       "      <td>-0.031961</td>\n",
       "      <td>-0.026226</td>\n",
       "      <td>-0.021733</td>\n",
       "      <td>-0.005912</td>\n",
       "    </tr>\n",
       "    <tr>\n",
       "      <th>438477</th>\n",
       "      <td>12:59:45</td>\n",
       "      <td>86</td>\n",
       "      <td>A</td>\n",
       "      <td>146.30</td>\n",
       "      <td>146.32</td>\n",
       "      <td>146.30</td>\n",
       "      <td>146.32</td>\n",
       "      <td>146.31</td>\n",
       "      <td>0.000137</td>\n",
       "      <td>-0.000137</td>\n",
       "      <td>...</td>\n",
       "      <td>0.002810</td>\n",
       "      <td>0.004393</td>\n",
       "      <td>0.007298</td>\n",
       "      <td>-0.013286</td>\n",
       "      <td>-0.016006</td>\n",
       "      <td>-0.013286</td>\n",
       "      <td>-0.031893</td>\n",
       "      <td>-0.025964</td>\n",
       "      <td>-0.021534</td>\n",
       "      <td>-0.005844</td>\n",
       "    </tr>\n",
       "    <tr>\n",
       "      <th>438478</th>\n",
       "      <td>12:59:50</td>\n",
       "      <td>86</td>\n",
       "      <td>A</td>\n",
       "      <td>146.29</td>\n",
       "      <td>146.30</td>\n",
       "      <td>146.26</td>\n",
       "      <td>146.26</td>\n",
       "      <td>146.28</td>\n",
       "      <td>-0.000068</td>\n",
       "      <td>-0.000205</td>\n",
       "      <td>...</td>\n",
       "      <td>0.002536</td>\n",
       "      <td>0.004119</td>\n",
       "      <td>0.006953</td>\n",
       "      <td>-0.013421</td>\n",
       "      <td>-0.016407</td>\n",
       "      <td>-0.013288</td>\n",
       "      <td>-0.032028</td>\n",
       "      <td>-0.026358</td>\n",
       "      <td>-0.021735</td>\n",
       "      <td>-0.005912</td>\n",
       "    </tr>\n",
       "    <tr>\n",
       "      <th>438479</th>\n",
       "      <td>12:59:55</td>\n",
       "      <td>86</td>\n",
       "      <td>A</td>\n",
       "      <td>146.26</td>\n",
       "      <td>146.28</td>\n",
       "      <td>146.21</td>\n",
       "      <td>146.28</td>\n",
       "      <td>146.26</td>\n",
       "      <td>-0.000205</td>\n",
       "      <td>-0.000410</td>\n",
       "      <td>...</td>\n",
       "      <td>0.002399</td>\n",
       "      <td>0.003775</td>\n",
       "      <td>0.006538</td>\n",
       "      <td>-0.013290</td>\n",
       "      <td>-0.016806</td>\n",
       "      <td>-0.013224</td>\n",
       "      <td>-0.031968</td>\n",
       "      <td>-0.026556</td>\n",
       "      <td>-0.021803</td>\n",
       "      <td>-0.005710</td>\n",
       "    </tr>\n",
       "  </tbody>\n",
       "</table>\n",
       "<p>438480 rows × 73 columns</p>\n",
       "</div>"
      ],
      "text/plain": [
       "            time  day symbol    open    high     low   close  average  \\\n",
       "0       06:00:00    0      A  135.54  135.79  135.54  135.79   135.67   \n",
       "1       06:00:05    0      A  135.54  135.79  135.54  135.79   135.67   \n",
       "2       06:00:10    0      A  135.54  135.79  135.54  135.79   135.67   \n",
       "3       06:00:15    0      A  135.54  135.79  135.54  135.79   135.67   \n",
       "4       06:00:20    0      A  135.54  135.79  135.54  135.79   135.67   \n",
       "...          ...  ...    ...     ...     ...     ...     ...      ...   \n",
       "438475  12:59:35   86      A  146.30  146.32  146.28  146.28   146.29   \n",
       "438476  12:59:40   86      A  146.28  146.30  146.27  146.29   146.29   \n",
       "438477  12:59:45   86      A  146.30  146.32  146.30  146.32   146.31   \n",
       "438478  12:59:50   86      A  146.29  146.30  146.26  146.26   146.28   \n",
       "438479  12:59:55   86      A  146.26  146.28  146.21  146.28   146.26   \n",
       "\n",
       "         open_5s   open_1m  ...  average_1h  average_1d  average_2d  \\\n",
       "0            NaN       NaN  ...         NaN         NaN         NaN   \n",
       "1       0.000000       NaN  ...         NaN         NaN         NaN   \n",
       "2       0.000000       NaN  ...         NaN         NaN         NaN   \n",
       "3       0.000000       NaN  ...         NaN         NaN         NaN   \n",
       "4       0.000000       NaN  ...         NaN         NaN         NaN   \n",
       "...          ...       ...  ...         ...         ...         ...   \n",
       "438475  0.000000 -0.000137  ...    0.002673    0.004256    0.006813   \n",
       "438476 -0.000137 -0.000137  ...    0.002673    0.004187    0.007438   \n",
       "438477  0.000137 -0.000137  ...    0.002810    0.004393    0.007298   \n",
       "438478 -0.000068 -0.000205  ...    0.002536    0.004119    0.006953   \n",
       "438479 -0.000205 -0.000410  ...    0.002399    0.003775    0.006538   \n",
       "\n",
       "        average_3d  average_4d  average_5d  average_6d  average_7d  \\\n",
       "0              NaN         NaN         NaN         NaN         NaN   \n",
       "1              NaN         NaN         NaN         NaN         NaN   \n",
       "2              NaN         NaN         NaN         NaN         NaN   \n",
       "3              NaN         NaN         NaN         NaN         NaN   \n",
       "4              NaN         NaN         NaN         NaN         NaN   \n",
       "...            ...         ...         ...         ...         ...   \n",
       "438475   -0.013287   -0.015942   -0.013421   -0.031833   -0.026097   \n",
       "438476   -0.013287   -0.016075   -0.013421   -0.031961   -0.026226   \n",
       "438477   -0.013286   -0.016006   -0.013286   -0.031893   -0.025964   \n",
       "438478   -0.013421   -0.016407   -0.013288   -0.032028   -0.026358   \n",
       "438479   -0.013290   -0.016806   -0.013224   -0.031968   -0.026556   \n",
       "\n",
       "        average_8d  average_9d  \n",
       "0              NaN         NaN  \n",
       "1              NaN         NaN  \n",
       "2              NaN         NaN  \n",
       "3              NaN         NaN  \n",
       "4              NaN         NaN  \n",
       "...            ...         ...  \n",
       "438475   -0.021668   -0.005844  \n",
       "438476   -0.021733   -0.005912  \n",
       "438477   -0.021534   -0.005844  \n",
       "438478   -0.021735   -0.005912  \n",
       "438479   -0.021803   -0.005710  \n",
       "\n",
       "[438480 rows x 73 columns]"
      ]
     },
     "execution_count": 14,
     "metadata": {},
     "output_type": "execute_result"
    }
   ],
   "source": [
    "all_data[0]"
   ]
  },
  {
   "cell_type": "code",
   "execution_count": null,
   "metadata": {},
   "outputs": [],
   "source": [
    "# get volatilities of past 1-9d\n",
    "for d in all_data:\n",
    "    stds_by_day = d.groupby('day')['open'].std()\n",
    "\n",
    "    def get_std_by_day(day):\n",
    "        if day < 0:\n",
    "            return np.nan\n",
    "        return stds_by_day[day]\n",
    "\n",
    "    for n in range(1, 10):\n",
    "        d[f'vol_{n}d'] = (d['day'] - n).apply(get_std_by_day)\n"
   ]
  },
  {
   "cell_type": "code",
   "execution_count": null,
   "metadata": {
    "scrolled": true
   },
   "outputs": [],
   "source": [
    "all_data[0]"
   ]
  },
  {
   "cell_type": "code",
   "execution_count": null,
   "metadata": {},
   "outputs": [],
   "source": [
    "all_data_combined = pd.concat(all_data)"
   ]
  },
  {
   "cell_type": "code",
   "execution_count": null,
   "metadata": {},
   "outputs": [],
   "source": [
    "all_data_combined.to_csv(\"train_data_transformed.csv\")"
   ]
  },
  {
   "cell_type": "markdown",
   "metadata": {},
   "source": [
    "## Model training"
   ]
  },
  {
   "cell_type": "code",
   "execution_count": 80,
   "metadata": {},
   "outputs": [],
   "source": [
    "# TODO : train models based on data with added features\n",
    "\n",
    "def split_train_test(dat):\n",
    "    return dat[dat['day'] < 78], dat[dat['day'] >= 78]\n"
   ]
  },
  {
   "cell_type": "markdown",
   "metadata": {},
   "source": [
    "#### Thoughts: \n",
    "\n",
    "##### Training:\n",
    "- train 9 models, with the ith model to predict i days ahead for each timestamp\n",
    "\n",
    "Example to train model 1: shift response variable (open price) by 1 day, fit random forest on shifted open price ~ other 80 features\n",
    "\n",
    "##### Final prediction:\n",
    "- final prediction will be an ensemble (i.e. exponential weighted average) of the 9 models\n",
    "\n",
    "Example 1: day 87 at time 7:00:00 will be:\n",
    "0.5x(model 1 using features at day 86 7:00:00) + 0.25x(model 2 using features at day 85 7:00:00) + 0.125x(model 3 using features at day 84 7:00:00) + ... \n",
    "\n",
    "Example 2: day 93 at time 7:00:00 will be:\n",
    "model 9 using features at day 86 7:00:00\n"
   ]
  },
  {
   "cell_type": "code",
   "execution_count": null,
   "metadata": {},
   "outputs": [],
   "source": []
  }
 ],
 "metadata": {
  "kernelspec": {
   "display_name": "Python 3",
   "language": "python",
   "name": "python3"
  },
  "language_info": {
   "codemirror_mode": {
    "name": "ipython",
    "version": 3
   },
   "file_extension": ".py",
   "mimetype": "text/x-python",
   "name": "python",
   "nbconvert_exporter": "python",
   "pygments_lexer": "ipython3",
   "version": "3.7.4"
  }
 },
 "nbformat": 4,
 "nbformat_minor": 4
}
